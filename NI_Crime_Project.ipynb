{
 "cells": [
  {
   "cell_type": "markdown",
   "id": "c3f620e7",
   "metadata": {},
   "source": [
    "## Crime Project \n",
    "\n",
    "This assignment focuses on real data collected from data.police.uk on crimes reported across Northern Ireland in February 2023 and includes NI ward data collected from OSNI Open Data.\n",
    "\n",
    "<b>Overview</b> \n",
    "\n",
    "This script will show the user how to: \n",
    " - load data\n",
    " - explore data\n",
    " - transform csv file into a shapefile\n",
    " - create lists and a bar graph from the lists\n",
    " - plot datasets \n",
    " - create a spatial join\n",
    " - create a choropleth map\n",
    " - create an interactive map \n",
    " - create a scatter graph with a line of best fit \n",
    " \n",
    "The overall aim is to be able to explore the crime data within Northern Ireland in different ways. Further development from this script can involve hot spot analysis, creating different charts such as pie charts to visualise crime types, and creating various maps from the data."
   ]
  },
  {
   "cell_type": "markdown",
   "id": "bbc95818",
   "metadata": {},
   "source": [
    "Run the following cell by clicking the shift key + enter key, and this will install all modules needed to run the script"
   ]
  },
  {
   "cell_type": "code",
   "execution_count": null,
   "id": "4c22a3a4",
   "metadata": {},
   "outputs": [],
   "source": [
    "import geopandas as gpd\n",
    "import pandas as pd\n",
    "import matplotlib.pyplot as plt\n",
    "import cartopy.crs as ccrs\n",
    "import seaborn as sns\n",
    "from shapely.geometry import Point"
   ]
  },
  {
   "cell_type": "markdown",
   "id": "1179c6ee",
   "metadata": {},
   "source": [
    "The next step is to load in the crime data for the script. Again, to run each cell click shift key + enter key"
   ]
  },
  {
   "cell_type": "code",
   "execution_count": null,
   "id": "bed5f8dd",
   "metadata": {},
   "outputs": [],
   "source": [
    "crime = gpd.read_file(\"data_files/NI_crime_feb_23.csv\")\n",
    "crime.crs = 'epsg:4326'  # sets point crs for crime data\n",
    "print(crime.head())  # displays first 5 rows of crime data "
   ]
  },
  {
   "cell_type": "markdown",
   "id": "480f3c85",
   "metadata": {},
   "source": [
    "From the above cell, you can see that there are 12264 rows, indicating that there were 12264 crimes reported across Northern Ireland in February 2023. You can also get the number of crimes reported by entering the following cell."
   ]
  },
  {
   "cell_type": "code",
   "execution_count": null,
   "id": "b95694c8",
   "metadata": {
    "scrolled": true
   },
   "outputs": [],
   "source": [
    "print(crime['Crime ID'].count())  # counts the number of crimes reported"
   ]
  },
  {
   "cell_type": "markdown",
   "id": "3d705802",
   "metadata": {},
   "source": [
    "The dataset can also be evaluated using .describe(), which provides details of the total number of crimes committed, the most recurring crime and how many times that particular crime has been reported. For this dataset it shows that Violence and sexual offences are the most reported and have been reported 4052 times in February."
   ]
  },
  {
   "cell_type": "code",
   "execution_count": null,
   "id": "3e148451",
   "metadata": {},
   "outputs": [],
   "source": [
    "crime['Crime type'].describe()  # describes dataframe"
   ]
  },
  {
   "cell_type": "markdown",
   "id": "958a51da",
   "metadata": {},
   "source": [
    "You can also look at individual or a specific set of rows within a dataset by using an index, '.loc'"
   ]
  },
  {
   "cell_type": "code",
   "execution_count": null,
   "id": "943561ba",
   "metadata": {},
   "outputs": [],
   "source": [
    "print(crime.loc[1])  # search row 1 of dataset "
   ]
  },
  {
   "cell_type": "markdown",
   "id": "422d62b2",
   "metadata": {},
   "source": [
    "You can also further examine the dataset with different statements to find out specific information. For example, the cell below should return all crimes reported that have a 'Crime type' of 'Anti-social behaviour. The number of rows should be 3452. \n",
    "\n",
    "Also, by adding in 'Crime type' at the end of our script line, this will only show the 'Crime type' column, instead of all 13. "
   ]
  },
  {
   "cell_type": "code",
   "execution_count": null,
   "id": "3b730ae0",
   "metadata": {
    "scrolled": true
   },
   "outputs": [],
   "source": [
    "print(crime.loc[crime['Crime type'] == 'Anti-social behaviour', 'Crime type'])"
   ]
  },
  {
   "cell_type": "markdown",
   "id": "171c8628",
   "metadata": {},
   "source": [
    "Each crime type can be organised into their own dataframe by defining the code and giving the dataframe a name. The first example is below."
   ]
  },
  {
   "cell_type": "code",
   "execution_count": null,
   "id": "331baf76",
   "metadata": {
    "scrolled": true
   },
   "outputs": [],
   "source": [
    "ASB_crime = crime.loc[crime['Crime type'] == 'Anti-social behaviour', 'Crime type']\n",
    "\n",
    "print (ASB_crime)\n",
    "print (ASB_crime.count())  # counts total number of times ASB crime has been reported"
   ]
  },
  {
   "cell_type": "markdown",
   "id": "7a190ef3",
   "metadata": {},
   "source": [
    "You can now do this for the remaining 13 crime types. and find the amount of times each crime has been reported by using the .count() method."
   ]
  },
  {
   "cell_type": "code",
   "execution_count": null,
   "id": "c48224ef",
   "metadata": {
    "scrolled": true
   },
   "outputs": [],
   "source": [
    "shoplifting_crime = crime.loc[crime['Crime type'] == 'Shoplifting', 'Crime type']\n",
    "violence_sexual = crime.loc[crime['Crime type'] == 'Violence and sexual offences', 'Crime type']\n",
    "crimdamage_arson = crime.loc[crime['Crime type'] == 'Criminal damage and arson', 'Crime type']\n",
    "other_theft = crime.loc[crime['Crime type'] == 'Other theft', 'Crime type']\n",
    "drugs_crime = crime.loc[crime['Crime type'] == 'Drugs', 'Crime type']\n",
    "burglary_crime = crime.loc[crime['Crime type'] == 'Burglary', 'Crime type']\n",
    "other_crime = crime.loc[crime['Crime type'] == 'Other crime', 'Crime type']\n",
    "vehicle_crime = crime.loc[crime['Crime type'] == 'Vehicle crime', 'Crime type']\n",
    "poss_weapons = crime.loc[crime['Crime type'] == 'Possessions of weapons', 'Crime type']\n",
    "public_order = crime.loc[crime['Crime type'] == 'Public order', 'Crime type']\n",
    "robbery_crime = crime.loc[crime['Crime type'] == 'Robbery', 'Crime type']\n",
    "bicycle_theft = crime.loc[crime['Crime type'] == 'Bicycle theft', 'Crime type']\n",
    "theft_from = crime.loc[crime['Crime type'] == 'Theft from the person', 'Crime type']\n",
    "\n",
    "print(shoplifting_crime.count())\n",
    "print(violence_sexual.count()) \n",
    "print(crimdamage_arson.count())\n",
    "print(other_theft.count())\n",
    "print(drugs_crime.count())\n",
    "print(burglary_crime.count())\n",
    "print(other_crime.count())\n",
    "print(vehicle_crime.count())\n",
    "print(poss_weapons.count())\n",
    "print(public_order.count())\n",
    "print(robbery_crime.count())\n",
    "print(bicycle_theft.count())\n",
    "print(theft_from.count())\n"
   ]
  },
  {
   "cell_type": "markdown",
   "id": "1efc295c",
   "metadata": {},
   "source": [
    "The data can also be analysed by using matplotlib to create a bar graph showing the most common type of crime reported. This will be done with using the above data. The next stage is capturing the dataset as lists. Run the cell below to create the lists. "
   ]
  },
  {
   "cell_type": "code",
   "execution_count": null,
   "id": "49ba6cbd",
   "metadata": {},
   "outputs": [],
   "source": [
    "crimetype = ['Violence_sexual_offences', 'Criminal_damage_arson', 'Other_theft', \n",
    "             'Shoplifting', 'Drugs', 'Burglary', 'Other_crime', 'Vehicle_crime',\n",
    "             'Possession_of_weapons', 'Public order', 'Robbery', 'Bicycle_theft',\n",
    "             'Theft_person', 'Anti-social_behaviour']  # creates list for types of crime\n",
    "\n",
    "crimecount = [4052, 1310, 1007, 705, 697, 309, 282, 193, 0, 55, 46, 36, 26, 3452]  \n",
    "\n",
    "# creates list for number of reported crimes for each type of crime"
   ]
  },
  {
   "cell_type": "markdown",
   "id": "214b0217",
   "metadata": {},
   "source": [
    "Now the bar chart can be created by running the code below."
   ]
  },
  {
   "cell_type": "code",
   "execution_count": null,
   "id": "ddd237f5",
   "metadata": {
    "scrolled": false
   },
   "outputs": [],
   "source": [
    "plt.bar(crimetype, crimecount)\n",
    "plt.title('Number of different crimes reported')\n",
    "plt.xlabel('Crime type')\n",
    "plt.ylabel('Times reported')\n",
    "plt.show()"
   ]
  },
  {
   "cell_type": "markdown",
   "id": "38a19d76",
   "metadata": {},
   "source": [
    "Although the bar chart displays the data, the visual element is lost with the overlaping of the Crime type labels. This can be fixed by rotating the x axis. "
   ]
  },
  {
   "cell_type": "code",
   "execution_count": null,
   "id": "63878aaa",
   "metadata": {
    "scrolled": true
   },
   "outputs": [],
   "source": [
    "# adapted from https://www.geeksforgeeks.org/bar-plot-in-matplotlib/\n",
    "\n",
    "# define figure size\n",
    "bar, ax = plt.subplots(figsize =(16, 9))\n",
    " \n",
    "# horizontal bar plot\n",
    "ax.barh(crimetype, crimecount)\n",
    " \n",
    "# remove axes splines\n",
    "for s in ['top', 'bottom', 'left', 'right']:\n",
    "    ax.spines[s].set_visible(False)\n",
    "\n",
    "# remove x, y ticks\n",
    "ax.xaxis.set_ticks_position('none')\n",
    "ax.yaxis.set_ticks_position('none')\n",
    " \n",
    "# add padding between axes and labels\n",
    "ax.xaxis.set_tick_params(pad = 5)\n",
    "ax.yaxis.set_tick_params(pad = 10)\n",
    "\n",
    "# show top values\n",
    "ax.invert_yaxis()\n",
    "\n",
    "# add Plot Title\n",
    "ax.set_title('Number of different crimes reported',\n",
    "             loc ='left', )\n",
    " \n",
    "# Show Plot\n",
    "plt.show()"
   ]
  },
  {
   "cell_type": "markdown",
   "id": "36756c42",
   "metadata": {},
   "source": [
    "This graph shows a much clearer result, with the highest reported crime being Violence and sexual offences and the least reported being theft from a person, and 0 reports of possession of weapons. "
   ]
  },
  {
   "cell_type": "markdown",
   "id": "d31cd3a2",
   "metadata": {},
   "source": [
    "For the next element of this script, the csv file of crime rates will be saved as a shapefile using shapely.geometry \n",
    "\n",
    "Run the next cell to load the data and print a subset of the data frame."
   ]
  },
  {
   "cell_type": "code",
   "execution_count": null,
   "id": "a70f1dec",
   "metadata": {
    "scrolled": true
   },
   "outputs": [],
   "source": [
    "df = pd.read_csv('data_files/NI_crime_feb_23.csv')  # loads point data\n",
    "\n",
    "print(df.head())  # prints initial subset of dataframe"
   ]
  },
  {
   "cell_type": "markdown",
   "id": "abb506e4",
   "metadata": {},
   "source": [
    "As you can see from the above cell, the dataframe has more columns than we need. We can tidy this up by running the next cell, which will drop specific columns. "
   ]
  },
  {
   "cell_type": "code",
   "execution_count": null,
   "id": "38f87a2d",
   "metadata": {},
   "outputs": [],
   "source": [
    "df = df.drop(columns=['Crime ID', 'Falls within', 'LSOA code', 'LSOA name', 'Last outcome category', 'Context'])\n",
    "# drops colums from dataset \n",
    "\n",
    "print(df.head())  # shows initial 5 rows of dataset"
   ]
  },
  {
   "cell_type": "markdown",
   "id": "56c47506",
   "metadata": {},
   "source": [
    "Now the dataframe consists only of the month the crime was reported, who it was reported by, the latitude and longitude points of the data, the location of the crime and the crime type. \n",
    "\n",
    "From this dataframe we will now define the geometry to begin the process of changing the csv file into a shapefile. "
   ]
  },
  {
   "cell_type": "code",
   "execution_count": null,
   "id": "a5d46822",
   "metadata": {},
   "outputs": [],
   "source": [
    "# add a geometry column from the longitude and latitude coordinates for each crime reported\n",
    "\n",
    "df['geometry'] = list(zip(df['Longitude'], df['Latitude']))\n",
    "df['geometry'] = df['geometry'].apply(Point)\n",
    "print(df)"
   ]
  },
  {
   "cell_type": "markdown",
   "id": "f07e40b8",
   "metadata": {},
   "source": [
    "Again, you can tidy up the dataframe by removing the columns we no longer need, however this will be left as is for now.\n",
    "\n",
    "A new GeoDataFrame can now be created from the Dataframe, using the EPSG code which represents WGS84 Lat/Lon. "
   ]
  },
  {
   "cell_type": "code",
   "execution_count": null,
   "id": "e09cc1d8",
   "metadata": {},
   "outputs": [],
   "source": [
    "gdf = gpd.GeoDataFrame(df)  # loads dataframe as gdf\n",
    "gdf.set_crs(\"EPSG:4326\", inplace=True)  # sets the coordinates reference system\n",
    "print(gdf)"
   ]
  },
  {
   "cell_type": "markdown",
   "id": "84d6c3ef",
   "metadata": {},
   "source": [
    "Now it is time to save the GeoDataFrame as a shapefile, which you can then load onto a GIS software such as ArcGIS and analyse the data from there."
   ]
  },
  {
   "cell_type": "code",
   "execution_count": null,
   "id": "2ed9c6c3",
   "metadata": {
    "scrolled": false
   },
   "outputs": [],
   "source": [
    "gdf.to_file('data_files/NIcrimefeb.shp')  # saves gdf as a shapefile"
   ]
  },
  {
   "cell_type": "markdown",
   "id": "48005784",
   "metadata": {},
   "source": [
    "Your shapefile should look similar to this once loaded into a GIS software. \n",
    "\n",
    "PICTURE."
   ]
  },
  {
   "cell_type": "markdown",
   "id": "38a1b351",
   "metadata": {},
   "source": [
    "Now that the crime data has been changed to a shapefile, we can now begin to look at the Wards data for Northern Ireland and merge the two together to create a visual analysis. The first step is to load the wards data. Do this by running the cell below."
   ]
  },
  {
   "cell_type": "code",
   "execution_count": null,
   "id": "f6b35c7b",
   "metadata": {
    "scrolled": true
   },
   "outputs": [],
   "source": [
    "wards = gpd.read_file('data_files/NI_wards.shp')  # load wards shapefile\n",
    "wards.crs = 'epsg:4326'  # set wards crs\n",
    "print(wards.head())  # display subset of wards data\n",
    "\n",
    "print(wards['Ward'].count())  # counts the number of wards in the dataset"
   ]
  },
  {
   "cell_type": "markdown",
   "id": "f918950d",
   "metadata": {},
   "source": [
    "As well as looking at the data in a tabular format, you can also visualise it as a map. The below code will run to project the wards data as a map."
   ]
  },
  {
   "cell_type": "code",
   "execution_count": null,
   "id": "ebc475c6",
   "metadata": {
    "scrolled": true
   },
   "outputs": [],
   "source": [
    "wards.plot(figsize=(12,10))  # plots wards as a map"
   ]
  },
  {
   "cell_type": "markdown",
   "id": "5aa90db1",
   "metadata": {},
   "source": [
    "Now load in the new crime shapefile as 'crimes' so the two datasets can be joined and test if the two have the same crs code."
   ]
  },
  {
   "cell_type": "code",
   "execution_count": null,
   "id": "e2cdc89a",
   "metadata": {
    "scrolled": false
   },
   "outputs": [],
   "source": [
    "crimes = gpd.read_file('data_files/NIcrimefeb.shp')  # load crimes shapefile\n",
    "\n",
    "print(crimes.crs == wards.crs)  # test if crs of both datasets are the same"
   ]
  },
  {
   "cell_type": "markdown",
   "id": "8f8bd8df",
   "metadata": {},
   "source": [
    "The crimes point data can also be added to the .plot method to provide a visual analysis of the amount of crimes reported across Northern Ireland. The maps colours and markers can likewise be changed to produce a better visual. "
   ]
  },
  {
   "cell_type": "code",
   "execution_count": null,
   "id": "1f59c41d",
   "metadata": {
    "scrolled": true
   },
   "outputs": [],
   "source": [
    "mapbase = wards.plot(figsize = (12, 10),  # sets figure size\n",
    "                     color='skyblue',  # sets colour of wards\n",
    "                     ec='dimgray', linewidth=0.2)  # sets colour and width of wards borders \n",
    "\n",
    "crimes.plot(ax=mapbase,  # defines axes of map\n",
    "            marker='.',  # sets the marker shape of the points\n",
    "            color='indianred',  # sets colour of the points\n",
    "            markersize=5)  # sets size of the points"
   ]
  },
  {
   "cell_type": "markdown",
   "id": "9b00201d",
   "metadata": {},
   "source": [
    "Now a spatial join of the two datasets will be created. Enter the following code to do this. "
   ]
  },
  {
   "cell_type": "code",
   "execution_count": null,
   "id": "a2ab7ae5",
   "metadata": {
    "scrolled": true
   },
   "outputs": [],
   "source": [
    "join = gpd.sjoin(wards, crimes, how='inner', lsuffix='left', rsuffix='right') #perform the spatial join\n",
    "join # show the joined table"
   ]
  },
  {
   "cell_type": "markdown",
   "id": "429ddf50",
   "metadata": {},
   "source": [
    "The join should have been successful. If not, refer to the troubleshooting guide and retrace the steps. Below will explore the data by counting the amount of crime reported in each ward using the .groupby method."
   ]
  },
  {
   "cell_type": "code",
   "execution_count": null,
   "id": "7aa5f962",
   "metadata": {},
   "outputs": [],
   "source": [
    "crime_stats = join.groupby(['Ward', 'Crime type']).count()  # counts the number of different crimes within each ward\n",
    "print(crime_stats.head())"
   ]
  },
  {
   "cell_type": "markdown",
   "id": "5c6211ea",
   "metadata": {},
   "source": [
    "Similar to the method before, the code below shows the total amount of 'Drugs' crime has been reported in each ward. \n",
    "\n",
    "Also, the .loc method can be used here to gain information for particular wards or rows, this example uses the 'Woodvale' ward in North Belfast. "
   ]
  },
  {
   "cell_type": "code",
   "execution_count": null,
   "id": "ad8ca2db",
   "metadata": {
    "scrolled": true
   },
   "outputs": [],
   "source": [
    "drugs_stats = join.groupby('Ward', ['Crime type'] == ['Drugs']).count()  # counts the number of 'Drugs' crime reported in each ward\n",
    "print(drugs_stats)\n",
    "print(drugs_stats.loc['Woodvale'])  # prints stats for specific ward "
   ]
  },
  {
   "cell_type": "markdown",
   "id": "0ddad594",
   "metadata": {},
   "source": [
    "The method below is similar to the .count method used to tally the different crime types in each ward, however this code counts the total amount of crime reported for each ward."
   ]
  },
  {
   "cell_type": "code",
   "execution_count": null,
   "id": "048b05bc",
   "metadata": {
    "scrolled": true
   },
   "outputs": [],
   "source": [
    "print(join.groupby(['Ward'])['Crime type'].count())  # counts total crime in each ward"
   ]
  },
  {
   "cell_type": "markdown",
   "id": "c0f91933",
   "metadata": {},
   "source": [
    "To save the new join as a dataset, use the .to_file method. For this instance, save the data as a shapefile, which again can be used on GIS software such as ArcGIS Pro to explore and analyse the data."
   ]
  },
  {
   "cell_type": "code",
   "execution_count": null,
   "id": "1ff1085d",
   "metadata": {
    "scrolled": true
   },
   "outputs": [],
   "source": [
    "join.to_file('data_files/wards_crimes.shp')  # saves join as a shapefile"
   ]
  },
  {
   "cell_type": "markdown",
   "id": "c4d9fa29",
   "metadata": {},
   "source": [
    "The code below ensures that the join table has worked by loading and viewing the data. "
   ]
  },
  {
   "cell_type": "code",
   "execution_count": null,
   "id": "fe4d0552",
   "metadata": {
    "scrolled": true
   },
   "outputs": [],
   "source": [
    "wards_crimes = gpd.read_file('data_files/wards_crimes.shp')  # loads new shapefile\n",
    "wards_crimes.crs = 'epsg:4326'  # sets crs\n",
    "print(wards_crimes.head())  # loads first 5 rows of dataset"
   ]
  },
  {
   "cell_type": "markdown",
   "id": "b093dadf",
   "metadata": {},
   "source": [
    "As well as looking at data, and using the .plot method to visualise the data, a choropleth map can also be created to visualise the clustering of crime rates reported across Northern Ireland. Run the code below to create a choropleth map."
   ]
  },
  {
   "cell_type": "code",
   "execution_count": null,
   "id": "be171332",
   "metadata": {
    "scrolled": false
   },
   "outputs": [],
   "source": [
    "polygons = wards  # defines polygons as wards data\n",
    "polygon_id_field = 'Ward Code'\n",
    "#points = crimes #\n",
    "#points.crs = 'epsg:4326'\n",
    "\n",
    "join = gpd.sjoin(wards, crimes, how='left', predicate='contains')  # defines join for crimes contained within wards\n",
    "count = join.groupby(polygon_id_field)[polygon_id_field].count()  #  counts number of crime points in polygons\n",
    "count.name='pointcount'  # sets name for count\n",
    "polygons = pd.merge(left=polygons, right=count, left_on=polygon_id_field, right_index=True)  # merge the data \n",
    "\n",
    "fig, ax = plt.subplots(figsize = (20,18))  # sets figure size\n",
    "polygons.plot(column = 'pointcount', cmap = 'Spectral_r', ax=ax, legend=True, # defines axes and colour ramp of map, this can be changed to suit your visual\n",
    "              legend_kwds={'label':'Number of crimes reported'})  # defines name of label of the legend\n",
    "polygons.geometry.boundary.plot(color=None, edgecolor='k',linewidth = 0, ax=ax)  # sets colour and width of ward boundarys "
   ]
  },
  {
   "cell_type": "markdown",
   "id": "2496dfe3",
   "metadata": {},
   "source": [
    "Interactive maps can also be created using GeoPandas. Run the code below and an interactive will be created."
   ]
  },
  {
   "cell_type": "code",
   "execution_count": null,
   "id": "21964d0e",
   "metadata": {},
   "outputs": [],
   "source": [
    "#https://towardsdatascience.com/interactive-geographical-maps-with-geopandas-4586a9d7cc10 provides further detail when using interactive maps \n",
    "\n",
    "crime_count = join.groupby(['Ward'])['Crime type'].count()  # counts number of crimes per ward\n",
    "\n",
    "ward_count = wards.set_index('Ward').join(crime_count.rename('Crime Count'))  # joins ward and crime_count data\n",
    "myFig = ward_count.explore(column='Crime Count',  # defines name of legend in the map\n",
    "                           tooltip=['Ward', 'Population', 'Crime Count'],  # sets what attributes will be shown on hover\n",
    "                           cmap = 'Spectral_r')  # sets colour ramp of the map \n",
    "\n",
    "myFig  # display figure"
   ]
  },
  {
   "cell_type": "markdown",
   "id": "76ae13a2",
   "metadata": {},
   "source": [
    "The interactive map above shows the amount of crimes reported per ward and the total population per ward. Briefly looking at the map and focusing in the Belfast area, there is a general pattern that the higher the population, the higher the crimes reported (and therefore the crime rate).\n",
    "\n",
    "To investigate this further, load the data below which has been created using Geoprocessing tools on ArcGIS Pro to join the crime and wards dataset from this script."
   ]
  },
  {
   "cell_type": "code",
   "execution_count": null,
   "id": "940d05ff",
   "metadata": {},
   "outputs": [],
   "source": [
    "crimes_wards = gpd.read_file('data_files/NI_Wards_Crimes.shp')  # loads new shapefile data\n",
    "crimes_wards.crs = 'epsg:4326'  # sets crs"
   ]
  },
  {
   "cell_type": "code",
   "execution_count": null,
   "id": "29617655",
   "metadata": {
    "scrolled": true
   },
   "outputs": [],
   "source": [
    "crimes_wards.head()  # displays initial 5 rows"
   ]
  },
  {
   "cell_type": "markdown",
   "id": "24b24143",
   "metadata": {},
   "source": [
    "As you can see, there is slightly more detail from this dataset in which the Most reported crime type and the least reported crime type are shown with their percentages for each ward. \n",
    "\n",
    "This next and final step will focus on finding out if there is a relationship between population and crime rate by creating a scatter graph using matplotlib."
   ]
  },
  {
   "cell_type": "code",
   "execution_count": null,
   "id": "54d291e6",
   "metadata": {
    "scrolled": false
   },
   "outputs": [],
   "source": [
    "crimes_wards.plot.scatter('Point_Coun', 'Population', figsize=(12, 10))  # creates a scatter graph of population and crime rate "
   ]
  },
  {
   "cell_type": "markdown",
   "id": "7338ddb7",
   "metadata": {},
   "source": [
    "As shown above, there seems to be a positive correlation between the population and 'point_coun' (crimes reported). To ensure that this is a positve correlation and to test the strength, a line of best fit can be added using the seaborn module. Run the code below to include this. "
   ]
  },
  {
   "cell_type": "code",
   "execution_count": null,
   "id": "9cc55859",
   "metadata": {
    "scrolled": true
   },
   "outputs": [],
   "source": [
    "sns.lmplot(x = \"Point_Coun\", y = \"Population\", data=crimes_wards)  # displays line of best fit to define correlation"
   ]
  },
  {
   "cell_type": "markdown",
   "id": "ca098e60",
   "metadata": {},
   "source": [
    "As shown, there seems to be a significant positive correlation between population and crime rate, signifying that the higher the population, the higher the amount of crimes reported. "
   ]
  }
 ],
 "metadata": {
  "kernelspec": {
   "display_name": "Python 3 (ipykernel)",
   "language": "python",
   "name": "python3"
  },
  "language_info": {
   "codemirror_mode": {
    "name": "ipython",
    "version": 3
   },
   "file_extension": ".py",
   "mimetype": "text/x-python",
   "name": "python",
   "nbconvert_exporter": "python",
   "pygments_lexer": "ipython3",
   "version": "3.9.16"
  }
 },
 "nbformat": 4,
 "nbformat_minor": 5
}
