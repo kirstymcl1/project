{
 "cells": [
  {
   "cell_type": "markdown",
   "id": "c3f620e7",
   "metadata": {},
   "source": [
    "# Crime Project \n",
    "\n",
    "This assignment focus on real data collected from data.police.uk on crimes reported across Northern Ireland in February 2023. This script also includes the use of Northern Ireland Wards and Counties. \n",
    "\n",
    "## Overview \n",
    "\n",
    "Give an overview of the script, briefly state the methods/objectives"
   ]
  },
  {
   "cell_type": "markdown",
   "id": "bbc95818",
   "metadata": {},
   "source": [
    "Run the following cell by clicking the shift key + enter key, and this will install the inital modules needed for the first element of this script. "
   ]
  },
  {
   "cell_type": "code",
   "execution_count": null,
   "id": "4c22a3a4",
   "metadata": {},
   "outputs": [],
   "source": [
    "import geopandas as gpd\n",
    "import pandas as pd"
   ]
  },
  {
   "cell_type": "markdown",
   "id": "1179c6ee",
   "metadata": {},
   "source": [
    "The next step is to load in the crime data for the script. Again, to run each cell click shift key + enter key"
   ]
  },
  {
   "cell_type": "code",
   "execution_count": null,
   "id": "bed5f8dd",
   "metadata": {},
   "outputs": [],
   "source": [
    "crime = gpd.read_file(\"data_files/NI_crime_feb_23.csv\")\n",
    "crime.crs = 'epsg:4326'  # sets point crs for crime data\n",
    "print(crime.head())  # displays first 5 rows of crime data "
   ]
  },
  {
   "cell_type": "markdown",
   "id": "480f3c85",
   "metadata": {},
   "source": [
    "From the above cell, you can see that there are 12264 rows, indicating that there were 12264 crimes reported across Northern Ireland in February 2023. You can also get the number of crimes reported by entering the following cell."
   ]
  },
  {
   "cell_type": "code",
   "execution_count": null,
   "id": "b95694c8",
   "metadata": {},
   "outputs": [],
   "source": [
    "print(crime['Crime ID'].count())  # counts the number of crimes reported"
   ]
  },
  {
   "cell_type": "markdown",
   "id": "958a51da",
   "metadata": {},
   "source": [
    "You can also look at individual or a specific set of rows within a GeoDataFrame by using an index, '.loc':"
   ]
  },
  {
   "cell_type": "code",
   "execution_count": null,
   "id": "943561ba",
   "metadata": {},
   "outputs": [],
   "source": [
    "print(crime.loc[1])"
   ]
  },
  {
   "cell_type": "markdown",
   "id": "422d62b2",
   "metadata": {},
   "source": [
    "You can also further examine the dataset with different statements to find out specific information. For example, the cell should return all crimes report that have a 'Crime type' of 'Anti-social behaviour. The number of rows should be 3452. \n",
    "\n",
    "Also, by adding in 'Crime type' at the end of our script line, this will only show the 'Crime type' column, instead of all 13. "
   ]
  },
  {
   "cell_type": "code",
   "execution_count": null,
   "id": "3b730ae0",
   "metadata": {},
   "outputs": [],
   "source": [
    "print(crime.loc[crime['Crime type'] == 'Anti-social behaviour', 'Crime type'])"
   ]
  },
  {
   "cell_type": "markdown",
   "id": "d31cd3a2",
   "metadata": {},
   "source": [
    "You can do this with each different crime type, but for now we will leave it here and move on to the next element of the script and turn this csv file of crime rates into a shapefile. \n",
    "\n",
    "Run the next cell to import the necessary shapefiles, load the data and print a subset of the data frame."
   ]
  },
  {
   "cell_type": "code",
   "execution_count": null,
   "id": "a70f1dec",
   "metadata": {
    "scrolled": true
   },
   "outputs": [],
   "source": [
    "from shapely.geometry import Point\n",
    "\n",
    "df = pd.read_csv('data_files/NI_crime_feb_23.csv')  # loads point data\n",
    "\n",
    "print(df.head())  # prints initial subset of dataframe"
   ]
  },
  {
   "cell_type": "markdown",
   "id": "abb506e4",
   "metadata": {},
   "source": [
    "As you can see from the above cell, the dataframe has more columns than we need. We can tidy this up by running the next cell, which will drop specific columns. "
   ]
  },
  {
   "cell_type": "code",
   "execution_count": null,
   "id": "38f87a2d",
   "metadata": {},
   "outputs": [],
   "source": [
    "df = df.drop(columns=['Crime ID', 'Falls within', 'LSOA code', 'LSOA name', 'Last outcome category', 'Context'])\n",
    "\n",
    "print(df.head())"
   ]
  },
  {
   "cell_type": "markdown",
   "id": "56c47506",
   "metadata": {},
   "source": [
    "Now the dataframe consists only of the month the crime was reported, who it was reported by, the latitude and longitude points of the data, the location of the crime and the crime type. \n",
    "\n",
    "From this dataframe we will now define the geometry to begin the process of changing the csv file into a shapefile. "
   ]
  },
  {
   "cell_type": "code",
   "execution_count": null,
   "id": "a5d46822",
   "metadata": {},
   "outputs": [],
   "source": [
    "# add a geometry column from the longitude and latitude coordinates for each crime reported\n",
    "\n",
    "df['geometry'] = list(zip(df['Longitude'], df['Latitude']))\n",
    "df['geometry'] = df['geometry'].apply(Point)\n",
    "print(df)"
   ]
  },
  {
   "cell_type": "markdown",
   "id": "f07e40b8",
   "metadata": {},
   "source": [
    "Again, you can tidy up the dataframe by removing the columns we no longer need, i.e., the latitude and longitude columns because they are now in the new geometry column. Run the next cell to do this. "
   ]
  },
  {
   "cell_type": "code",
   "execution_count": null,
   "id": "632bc33a",
   "metadata": {},
   "outputs": [],
   "source": [
    "df = df.drop(columns=['Longitude', 'Latitude'])\n",
    "\n",
    "print(df)"
   ]
  },
  {
   "cell_type": "markdown",
   "id": "921302e9",
   "metadata": {},
   "source": [
    "Now, a new GeoDataFrame can be created from the Dataframe, using the EPSG code which represents WGS84 Lat/Lon. "
   ]
  },
  {
   "cell_type": "code",
   "execution_count": null,
   "id": "e09cc1d8",
   "metadata": {},
   "outputs": [],
   "source": [
    "gdf = gpd.GeoDataFrame(df)\n",
    "gdf.set_crs(\"EPSG:4326\", inplace=True)  # sets the coordinates reference system\n",
    "print(gdf)"
   ]
  },
  {
   "cell_type": "markdown",
   "id": "84d6c3ef",
   "metadata": {},
   "source": [
    "Now it is time to save the GeoDataFrame as a shapefile, which you can then load onto a GIS software such as ArcGIS and analyse the data from there."
   ]
  },
  {
   "cell_type": "code",
   "execution_count": null,
   "id": "2ed9c6c3",
   "metadata": {
    "scrolled": false
   },
   "outputs": [],
   "source": [
    "gdf.to_file('data_files/NIcrimefeb.shp')"
   ]
  },
  {
   "cell_type": "markdown",
   "id": "48005784",
   "metadata": {},
   "source": [
    "Your shapefile should look similar to this once loaded into a GIS software. \n",
    "\n",
    "PICTURE."
   ]
  },
  {
   "cell_type": "markdown",
   "id": "38a1b351",
   "metadata": {},
   "source": [
    "Now that we have our crime data has been changed to a shapefile, we can now begin to look at the Wards data for Northern Ireland and merge the two together. The first step is to load the wards data. Do this by running the cell below."
   ]
  },
  {
   "cell_type": "code",
   "execution_count": null,
   "id": "f6b35c7b",
   "metadata": {
    "scrolled": true
   },
   "outputs": [],
   "source": [
    "wards = gpd.read_file('data_files/NI_wards.shp')  # load wards shapefile\n",
    "wards.crs = 'epsg:4326'  # set wards crs\n",
    "print(wards.head())  # display subset of wards data\n",
    "print(wards['Ward'].count())  # counts the number of wards in the dataset"
   ]
  },
  {
   "cell_type": "code",
   "execution_count": null,
   "id": "b9d07893",
   "metadata": {},
   "outputs": [],
   "source": []
  },
  {
   "cell_type": "code",
   "execution_count": null,
   "id": "0fe43798",
   "metadata": {},
   "outputs": [],
   "source": []
  }
 ],
 "metadata": {
  "kernelspec": {
   "display_name": "Python 3 (ipykernel)",
   "language": "python",
   "name": "python3"
  },
  "language_info": {
   "codemirror_mode": {
    "name": "ipython",
    "version": 3
   },
   "file_extension": ".py",
   "mimetype": "text/x-python",
   "name": "python",
   "nbconvert_exporter": "python",
   "pygments_lexer": "ipython3",
   "version": "3.9.16"
  }
 },
 "nbformat": 4,
 "nbformat_minor": 5
}
