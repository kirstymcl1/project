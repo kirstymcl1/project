{
 "cells": [
  {
   "cell_type": "markdown",
   "id": "c3f620e7",
   "metadata": {},
   "source": [
    "# Crime Project \n",
    "\n",
    "This assignment focus on real data collected from data.police.uk on crimes reported across Northern Ireland in February 2023. This script also includes the use of Northern Ireland Wards and Counties. \n",
    "\n",
    "## Overview \n",
    "\n",
    "Give an overview of the script, briefly state the methods/objectives"
   ]
  },
  {
   "cell_type": "markdown",
   "id": "bbc95818",
   "metadata": {},
   "source": [
    "Run the following cell by clicking the shift key + enter key, and this will install the inital modules needed for the first element of this script. "
   ]
  },
  {
   "cell_type": "code",
   "execution_count": 1,
   "id": "4c22a3a4",
   "metadata": {},
   "outputs": [],
   "source": [
    "import geopandas as gpd\n",
    "import pandas as pd"
   ]
  },
  {
   "cell_type": "markdown",
   "id": "1179c6ee",
   "metadata": {},
   "source": [
    "The next step is to load in the crime data for the script. Again, to run each cell click shift key + enter key"
   ]
  },
  {
   "cell_type": "code",
   "execution_count": 2,
   "id": "bed5f8dd",
   "metadata": {},
   "outputs": [
    {
     "name": "stdout",
     "output_type": "stream",
     "text": [
      "  Crime ID    Month                         Reported by   \n",
      "0           2023-02  Police Service of Northern Ireland  \\\n",
      "1           2023-02  Police Service of Northern Ireland   \n",
      "2           2023-02  Police Service of Northern Ireland   \n",
      "3           2023-02  Police Service of Northern Ireland   \n",
      "4           2023-02  Police Service of Northern Ireland   \n",
      "\n",
      "                         Falls within  Longitude   Latitude   \n",
      "0  Police Service of Northern Ireland  -5.960566  54.630260  \\\n",
      "1  Police Service of Northern Ireland  -6.275733  54.864132   \n",
      "2  Police Service of Northern Ireland  -6.355642  54.474319   \n",
      "3  Police Service of Northern Ireland  -5.951435  54.589790   \n",
      "4  Police Service of Northern Ireland  -5.881625  54.603207   \n",
      "\n",
      "                      Location LSOA code LSOA name             Crime type   \n",
      "0      On or near Meyrick Park                      Anti-social behaviour  \\\n",
      "1     On or near Bridge Street                      Anti-social behaviour   \n",
      "2  On or near Silverwood Court                      Anti-social behaviour   \n",
      "3      On or near Empire Drive                      Anti-social behaviour   \n",
      "4      On or near Devon Parade                      Anti-social behaviour   \n",
      "\n",
      "  Last outcome category Context geometry  \n",
      "0                                   None  \n",
      "1                                   None  \n",
      "2                                   None  \n",
      "3                                   None  \n",
      "4                                   None  \n"
     ]
    }
   ],
   "source": [
    "crime = gpd.read_file(\"data_files/NI_crime_feb_23.csv\")\n",
    "crime.crs = 'epsg:4326'  # sets point crs for crime data\n",
    "print(crime.head())  # displays first 5 rows of crime data "
   ]
  },
  {
   "cell_type": "markdown",
   "id": "480f3c85",
   "metadata": {},
   "source": [
    "From the above cell, you can see that there are 12264 rows, indicating that there were 12264 crimes reported across Northern Ireland in February 2023. You can also get the number of crimes reported by entering the following cell."
   ]
  },
  {
   "cell_type": "code",
   "execution_count": 3,
   "id": "b95694c8",
   "metadata": {},
   "outputs": [
    {
     "name": "stdout",
     "output_type": "stream",
     "text": [
      "12264\n"
     ]
    }
   ],
   "source": [
    "print(crime['Crime ID'].count())  # counts the number of crimes reported"
   ]
  },
  {
   "cell_type": "markdown",
   "id": "958a51da",
   "metadata": {},
   "source": [
    "You can also look at individual or a specific set of rows within a GeoDataFrame by using an index, '.loc':"
   ]
  },
  {
   "cell_type": "code",
   "execution_count": 4,
   "id": "943561ba",
   "metadata": {},
   "outputs": [
    {
     "name": "stdout",
     "output_type": "stream",
     "text": [
      "Crime ID                                                   \n",
      "Month                                               2023-02\n",
      "Reported by              Police Service of Northern Ireland\n",
      "Falls within             Police Service of Northern Ireland\n",
      "Longitude                                         -6.275733\n",
      "Latitude                                          54.864132\n",
      "Location                           On or near Bridge Street\n",
      "LSOA code                                                  \n",
      "LSOA name                                                  \n",
      "Crime type                            Anti-social behaviour\n",
      "Last outcome category                                      \n",
      "Context                                                    \n",
      "geometry                                               None\n",
      "Name: 1, dtype: object\n"
     ]
    }
   ],
   "source": [
    "print(crime.loc[1])"
   ]
  },
  {
   "cell_type": "markdown",
   "id": "422d62b2",
   "metadata": {},
   "source": [
    "You can also further examine the dataset with different statements to find out specific information. For example, the cell should return all crimes report that have a 'Crime type' of 'Anti-social behaviour. The number of rows should be 3452. \n",
    "\n",
    "Also, by adding in 'Crime type' at the end of our script line, this will only show the 'Crime type' column, instead of all 13. "
   ]
  },
  {
   "cell_type": "code",
   "execution_count": 5,
   "id": "3b730ae0",
   "metadata": {},
   "outputs": [
    {
     "name": "stdout",
     "output_type": "stream",
     "text": [
      "0       Anti-social behaviour\n",
      "1       Anti-social behaviour\n",
      "2       Anti-social behaviour\n",
      "3       Anti-social behaviour\n",
      "4       Anti-social behaviour\n",
      "                ...          \n",
      "3447    Anti-social behaviour\n",
      "3448    Anti-social behaviour\n",
      "3449    Anti-social behaviour\n",
      "3450    Anti-social behaviour\n",
      "3451    Anti-social behaviour\n",
      "Name: Crime type, Length: 3452, dtype: object\n"
     ]
    }
   ],
   "source": [
    "print(crime.loc[crime['Crime type'] == 'Anti-social behaviour', 'Crime type'])"
   ]
  },
  {
   "cell_type": "markdown",
   "id": "d31cd3a2",
   "metadata": {},
   "source": [
    "You can do this with each different crime type, but for now we will leave it here and move on to the next element of the script and turn this csv file of crime rates into a shapefile. \n",
    "\n",
    "Run the next cell to import the necessary shapefiles, load the data and print a subset of the data frame."
   ]
  },
  {
   "cell_type": "code",
   "execution_count": 6,
   "id": "a70f1dec",
   "metadata": {
    "scrolled": true
   },
   "outputs": [
    {
     "name": "stdout",
     "output_type": "stream",
     "text": [
      "  Crime ID    Month                         Reported by   \n",
      "0      NaN  2023-02  Police Service of Northern Ireland  \\\n",
      "1      NaN  2023-02  Police Service of Northern Ireland   \n",
      "2      NaN  2023-02  Police Service of Northern Ireland   \n",
      "3      NaN  2023-02  Police Service of Northern Ireland   \n",
      "4      NaN  2023-02  Police Service of Northern Ireland   \n",
      "\n",
      "                         Falls within  Longitude   Latitude   \n",
      "0  Police Service of Northern Ireland  -5.960566  54.630260  \\\n",
      "1  Police Service of Northern Ireland  -6.275733  54.864132   \n",
      "2  Police Service of Northern Ireland  -6.355642  54.474319   \n",
      "3  Police Service of Northern Ireland  -5.951435  54.589790   \n",
      "4  Police Service of Northern Ireland  -5.881625  54.603207   \n",
      "\n",
      "                      Location  LSOA code  LSOA name             Crime type   \n",
      "0      On or near Meyrick Park        NaN        NaN  Anti-social behaviour  \\\n",
      "1     On or near Bridge Street        NaN        NaN  Anti-social behaviour   \n",
      "2  On or near Silverwood Court        NaN        NaN  Anti-social behaviour   \n",
      "3      On or near Empire Drive        NaN        NaN  Anti-social behaviour   \n",
      "4      On or near Devon Parade        NaN        NaN  Anti-social behaviour   \n",
      "\n",
      "   Last outcome category  Context  \n",
      "0                    NaN      NaN  \n",
      "1                    NaN      NaN  \n",
      "2                    NaN      NaN  \n",
      "3                    NaN      NaN  \n",
      "4                    NaN      NaN  \n"
     ]
    }
   ],
   "source": [
    "from shapely.geometry import Point\n",
    "\n",
    "df = pd.read_csv('data_files/NI_crime_feb_23.csv')  # loads point data\n",
    "\n",
    "print(df.head())  # prints initial subset of dataframe"
   ]
  },
  {
   "cell_type": "markdown",
   "id": "abb506e4",
   "metadata": {},
   "source": [
    "As you can see from the above cell, the dataframe has more columns than we need. We can tidy this up by running the next cell, which will drop specific columns. "
   ]
  },
  {
   "cell_type": "code",
   "execution_count": 7,
   "id": "38f87a2d",
   "metadata": {},
   "outputs": [
    {
     "name": "stdout",
     "output_type": "stream",
     "text": [
      "     Month                         Reported by  Longitude   Latitude   \n",
      "0  2023-02  Police Service of Northern Ireland  -5.960566  54.630260  \\\n",
      "1  2023-02  Police Service of Northern Ireland  -6.275733  54.864132   \n",
      "2  2023-02  Police Service of Northern Ireland  -6.355642  54.474319   \n",
      "3  2023-02  Police Service of Northern Ireland  -5.951435  54.589790   \n",
      "4  2023-02  Police Service of Northern Ireland  -5.881625  54.603207   \n",
      "\n",
      "                      Location             Crime type  \n",
      "0      On or near Meyrick Park  Anti-social behaviour  \n",
      "1     On or near Bridge Street  Anti-social behaviour  \n",
      "2  On or near Silverwood Court  Anti-social behaviour  \n",
      "3      On or near Empire Drive  Anti-social behaviour  \n",
      "4      On or near Devon Parade  Anti-social behaviour  \n"
     ]
    }
   ],
   "source": [
    "df = df.drop(columns=['Crime ID', 'Falls within', 'LSOA code', 'LSOA name', 'Last outcome category', 'Context'])\n",
    "\n",
    "print(df.head())"
   ]
  },
  {
   "cell_type": "markdown",
   "id": "56c47506",
   "metadata": {},
   "source": [
    "Now the dataframe consists only of the month the crime was reported, who it was reported by, the latitude and longitude points of the data, the location of the crime and the crime type. \n",
    "\n",
    "From this dataframe we will now define the geometry to begin the process of changing the csv file into a shapefile. "
   ]
  },
  {
   "cell_type": "code",
   "execution_count": 8,
   "id": "a5d46822",
   "metadata": {},
   "outputs": [
    {
     "name": "stdout",
     "output_type": "stream",
     "text": [
      "         Month                         Reported by  Longitude   Latitude   \n",
      "0      2023-02  Police Service of Northern Ireland  -5.960566  54.630260  \\\n",
      "1      2023-02  Police Service of Northern Ireland  -6.275733  54.864132   \n",
      "2      2023-02  Police Service of Northern Ireland  -6.355642  54.474319   \n",
      "3      2023-02  Police Service of Northern Ireland  -5.951435  54.589790   \n",
      "4      2023-02  Police Service of Northern Ireland  -5.881625  54.603207   \n",
      "...        ...                                 ...        ...        ...   \n",
      "12259  2023-02  Police Service of Northern Ireland  -5.840630  54.853524   \n",
      "12260  2023-02  Police Service of Northern Ireland  -5.980109  54.619357   \n",
      "12261  2023-02  Police Service of Northern Ireland  -5.925203  54.602102   \n",
      "12262  2023-02  Police Service of Northern Ireland  -5.813526  54.860263   \n",
      "12263  2023-02  Police Service of Northern Ireland  -5.934706  54.652491   \n",
      "\n",
      "                          Location             Crime type   \n",
      "0          On or near Meyrick Park  Anti-social behaviour  \\\n",
      "1         On or near Bridge Street  Anti-social behaviour   \n",
      "2      On or near Silverwood Court  Anti-social behaviour   \n",
      "3          On or near Empire Drive  Anti-social behaviour   \n",
      "4          On or near Devon Parade  Anti-social behaviour   \n",
      "...                            ...                    ...   \n",
      "12259  On or near Greenland Parade            Other crime   \n",
      "12260                  On or near             Other crime   \n",
      "12261   On or near Victoria Street            Other crime   \n",
      "12262     On or near Slemish Drive            Other crime   \n",
      "12263         On or near Northview            Other crime   \n",
      "\n",
      "                          geometry  \n",
      "0       POINT (-5.960566 54.63026)  \n",
      "1      POINT (-6.275733 54.864132)  \n",
      "2      POINT (-6.355642 54.474319)  \n",
      "3       POINT (-5.951435 54.58979)  \n",
      "4      POINT (-5.881625 54.603207)  \n",
      "...                            ...  \n",
      "12259   POINT (-5.84063 54.853524)  \n",
      "12260  POINT (-5.980109 54.619357)  \n",
      "12261  POINT (-5.925203 54.602102)  \n",
      "12262  POINT (-5.813526 54.860263)  \n",
      "12263  POINT (-5.934706 54.652491)  \n",
      "\n",
      "[12264 rows x 7 columns]\n"
     ]
    }
   ],
   "source": [
    "# add a geometry column from the longitude and latitude coordinates for each crime reported\n",
    "\n",
    "df['geometry'] = list(zip(df['Longitude'], df['Latitude']))\n",
    "df['geometry'] = df['geometry'].apply(Point)\n",
    "print(df)"
   ]
  },
  {
   "cell_type": "markdown",
   "id": "f07e40b8",
   "metadata": {},
   "source": [
    "Again, you can tidy up the dataframe by removing the columns we no longer need, i.e., the latitude and longitude columns because they are now in the new geometry column. Run the next cell to do this. "
   ]
  },
  {
   "cell_type": "code",
   "execution_count": 9,
   "id": "632bc33a",
   "metadata": {},
   "outputs": [
    {
     "name": "stdout",
     "output_type": "stream",
     "text": [
      "         Month                         Reported by   \n",
      "0      2023-02  Police Service of Northern Ireland  \\\n",
      "1      2023-02  Police Service of Northern Ireland   \n",
      "2      2023-02  Police Service of Northern Ireland   \n",
      "3      2023-02  Police Service of Northern Ireland   \n",
      "4      2023-02  Police Service of Northern Ireland   \n",
      "...        ...                                 ...   \n",
      "12259  2023-02  Police Service of Northern Ireland   \n",
      "12260  2023-02  Police Service of Northern Ireland   \n",
      "12261  2023-02  Police Service of Northern Ireland   \n",
      "12262  2023-02  Police Service of Northern Ireland   \n",
      "12263  2023-02  Police Service of Northern Ireland   \n",
      "\n",
      "                          Location             Crime type   \n",
      "0          On or near Meyrick Park  Anti-social behaviour  \\\n",
      "1         On or near Bridge Street  Anti-social behaviour   \n",
      "2      On or near Silverwood Court  Anti-social behaviour   \n",
      "3          On or near Empire Drive  Anti-social behaviour   \n",
      "4          On or near Devon Parade  Anti-social behaviour   \n",
      "...                            ...                    ...   \n",
      "12259  On or near Greenland Parade            Other crime   \n",
      "12260                  On or near             Other crime   \n",
      "12261   On or near Victoria Street            Other crime   \n",
      "12262     On or near Slemish Drive            Other crime   \n",
      "12263         On or near Northview            Other crime   \n",
      "\n",
      "                          geometry  \n",
      "0       POINT (-5.960566 54.63026)  \n",
      "1      POINT (-6.275733 54.864132)  \n",
      "2      POINT (-6.355642 54.474319)  \n",
      "3       POINT (-5.951435 54.58979)  \n",
      "4      POINT (-5.881625 54.603207)  \n",
      "...                            ...  \n",
      "12259   POINT (-5.84063 54.853524)  \n",
      "12260  POINT (-5.980109 54.619357)  \n",
      "12261  POINT (-5.925203 54.602102)  \n",
      "12262  POINT (-5.813526 54.860263)  \n",
      "12263  POINT (-5.934706 54.652491)  \n",
      "\n",
      "[12264 rows x 5 columns]\n"
     ]
    }
   ],
   "source": [
    "df = df.drop(columns=['Longitude', 'Latitude'])\n",
    "\n",
    "print(df)"
   ]
  },
  {
   "cell_type": "markdown",
   "id": "921302e9",
   "metadata": {},
   "source": [
    "Now, a new GeoDataFrame can be created from the Dataframe, using the EPSG code which represents WGS84 Lat/Lon. "
   ]
  },
  {
   "cell_type": "code",
   "execution_count": 10,
   "id": "e09cc1d8",
   "metadata": {},
   "outputs": [
    {
     "name": "stdout",
     "output_type": "stream",
     "text": [
      "         Month                         Reported by   \n",
      "0      2023-02  Police Service of Northern Ireland  \\\n",
      "1      2023-02  Police Service of Northern Ireland   \n",
      "2      2023-02  Police Service of Northern Ireland   \n",
      "3      2023-02  Police Service of Northern Ireland   \n",
      "4      2023-02  Police Service of Northern Ireland   \n",
      "...        ...                                 ...   \n",
      "12259  2023-02  Police Service of Northern Ireland   \n",
      "12260  2023-02  Police Service of Northern Ireland   \n",
      "12261  2023-02  Police Service of Northern Ireland   \n",
      "12262  2023-02  Police Service of Northern Ireland   \n",
      "12263  2023-02  Police Service of Northern Ireland   \n",
      "\n",
      "                          Location             Crime type   \n",
      "0          On or near Meyrick Park  Anti-social behaviour  \\\n",
      "1         On or near Bridge Street  Anti-social behaviour   \n",
      "2      On or near Silverwood Court  Anti-social behaviour   \n",
      "3          On or near Empire Drive  Anti-social behaviour   \n",
      "4          On or near Devon Parade  Anti-social behaviour   \n",
      "...                            ...                    ...   \n",
      "12259  On or near Greenland Parade            Other crime   \n",
      "12260                  On or near             Other crime   \n",
      "12261   On or near Victoria Street            Other crime   \n",
      "12262     On or near Slemish Drive            Other crime   \n",
      "12263         On or near Northview            Other crime   \n",
      "\n",
      "                        geometry  \n",
      "0      POINT (-5.96057 54.63026)  \n",
      "1      POINT (-6.27573 54.86413)  \n",
      "2      POINT (-6.35564 54.47432)  \n",
      "3      POINT (-5.95144 54.58979)  \n",
      "4      POINT (-5.88162 54.60321)  \n",
      "...                          ...  \n",
      "12259  POINT (-5.84063 54.85352)  \n",
      "12260  POINT (-5.98011 54.61936)  \n",
      "12261  POINT (-5.92520 54.60210)  \n",
      "12262  POINT (-5.81353 54.86026)  \n",
      "12263  POINT (-5.93471 54.65249)  \n",
      "\n",
      "[12264 rows x 5 columns]\n"
     ]
    }
   ],
   "source": [
    "gdf = gpd.GeoDataFrame(df)\n",
    "gdf.set_crs(\"EPSG:4326\", inplace=True)  # sets the coordinates reference system\n",
    "print(gdf)"
   ]
  },
  {
   "cell_type": "markdown",
   "id": "84d6c3ef",
   "metadata": {},
   "source": [
    "Now it is time to save the GeoDataFrame as a shapefile, which you can then load onto a GIS software such as ArcGIS and analyse the data from there."
   ]
  },
  {
   "cell_type": "code",
   "execution_count": 11,
   "id": "2ed9c6c3",
   "metadata": {
    "scrolled": false
   },
   "outputs": [
    {
     "name": "stderr",
     "output_type": "stream",
     "text": [
      "C:\\Users\\kirst\\AppData\\Local\\Temp\\ipykernel_9912\\342613520.py:1: UserWarning: Column names longer than 10 characters will be truncated when saved to ESRI Shapefile.\n",
      "  gdf.to_file('data_files/NIcrimefeb.shp')\n"
     ]
    }
   ],
   "source": [
    "gdf.to_file('data_files/NIcrimefeb.shp')"
   ]
  },
  {
   "cell_type": "markdown",
   "id": "48005784",
   "metadata": {},
   "source": [
    "Your shapefile should look similar to this once loaded into a GIS software. \n",
    "\n",
    "PICTURE."
   ]
  },
  {
   "cell_type": "markdown",
   "id": "38a1b351",
   "metadata": {},
   "source": [
    "Now that we have our crime data has been changed to a shapefile, we can now begin to look at the Wards data for Northern Ireland and merge the two together. The first step is to load the wards data. Do this by running the cell below."
   ]
  },
  {
   "cell_type": "code",
   "execution_count": 12,
   "id": "f6b35c7b",
   "metadata": {
    "scrolled": true
   },
   "outputs": [
    {
     "name": "stdout",
     "output_type": "stream",
     "text": [
      "  Ward Code          Ward  Population   \n",
      "0    95DD05     Ballykeel        1739  \\\n",
      "1    95DD06  Ballyloughan        2588   \n",
      "2    95DD03      Ardeevin        3503   \n",
      "3    95DD04        Ballee        1926   \n",
      "4    95DD09  Craigywarren        2590   \n",
      "\n",
      "                                            geometry  \n",
      "0  POLYGON ((-6.25014 54.85879, -6.25015 54.85875...  \n",
      "1  POLYGON ((-6.28913 54.86946, -6.28917 54.86949...  \n",
      "2  POLYGON ((-6.29527 54.84752, -6.29527 54.84751...  \n",
      "3  POLYGON ((-6.26087 54.84528, -6.26096 54.84524...  \n",
      "4  POLYGON ((-6.24807 54.89652, -6.24819 54.89645...  \n",
      "582\n"
     ]
    }
   ],
   "source": [
    "wards = gpd.read_file('data_files/NI_wards.shp')  # load wards shapefile\n",
    "wards.crs = 'epsg:4326'  # set wards crs\n",
    "print(wards.head())  # display subset of wards data\n",
    "print(wards['Ward'].count())  # counts the number of wards in the dataset"
   ]
  },
  {
   "cell_type": "code",
   "execution_count": null,
   "id": "b9d07893",
   "metadata": {},
   "outputs": [],
   "source": []
  },
  {
   "cell_type": "code",
   "execution_count": null,
   "id": "0fe43798",
   "metadata": {},
   "outputs": [],
   "source": []
  }
 ],
 "metadata": {
  "kernelspec": {
   "display_name": "Python 3 (ipykernel)",
   "language": "python",
   "name": "python3"
  },
  "language_info": {
   "codemirror_mode": {
    "name": "ipython",
    "version": 3
   },
   "file_extension": ".py",
   "mimetype": "text/x-python",
   "name": "python",
   "nbconvert_exporter": "python",
   "pygments_lexer": "ipython3",
   "version": "3.9.16"
  }
 },
 "nbformat": 4,
 "nbformat_minor": 5
}
